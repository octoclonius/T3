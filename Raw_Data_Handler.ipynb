{
 "cells": [
  {
   "cell_type": "code",
   "execution_count": 1,
   "metadata": {},
   "outputs": [],
   "source": [
    "import pandas as pd\n",
    "from sklearn.model_selection import train_test_split"
   ]
  },
  {
   "cell_type": "code",
   "execution_count": 2,
   "metadata": {},
   "outputs": [],
   "source": [
    "# Global variables\n",
    "seed = 42\n",
    "csv_path_input = '.../samples-augmented.csv'\n",
    "csv_path_output_train = '.../train.csv'\n",
    "csv_path_output_test = '.../test.csv'"
   ]
  },
  {
   "cell_type": "code",
   "execution_count": 3,
   "metadata": {},
   "outputs": [],
   "source": [
    "df = pd.read_csv(csv_path_input)\n",
    "\n",
    "df_blacklist = df[df['list'] == 'Blacklist']\n",
    "df_whitelist = df[df['list'] == 'Whitelist']\n",
    "\n",
    "n = min(len(df_blacklist), len(df_whitelist)) // 5 * 5\n",
    "\n",
    "df_blacklist = df_blacklist.sample(n=n, random_state=seed)\n",
    "df_whitelist = df_whitelist.sample(n=n, random_state=seed)\n",
    "\n",
    "train_blacklist, test_blacklist = train_test_split(df_blacklist, test_size=0.2, random_state=seed)\n",
    "train_whitelist, test_whitelist = train_test_split(df_whitelist, test_size=0.2, random_state=seed)\n",
    "\n",
    "df_train = pd.concat([train_blacklist, train_whitelist], ignore_index=True)\n",
    "df_test = pd.concat([test_blacklist, test_whitelist], ignore_index=True)"
   ]
  },
  {
   "cell_type": "code",
   "execution_count": 4,
   "metadata": {},
   "outputs": [
    {
     "name": "stdout",
     "output_type": "stream",
     "text": [
      "list\n",
      "Blacklist    69448\n",
      "Whitelist    69448\n",
      "Name: count, dtype: int64\n",
      "\n",
      "list\n",
      "Blacklist    17362\n",
      "Whitelist    17362\n",
      "Name: count, dtype: int64\n"
     ]
    }
   ],
   "source": [
    "print(f'{df_train['list'].value_counts()}\\n')\n",
    "print(df_test['list'].value_counts())"
   ]
  },
  {
   "cell_type": "code",
   "execution_count": 5,
   "metadata": {},
   "outputs": [],
   "source": [
    "df_train.to_csv(csv_path_output_train, index=False)\n",
    "df_test.to_csv(csv_path_output_test, index=False)"
   ]
  }
 ],
 "metadata": {
  "kernelspec": {
   "display_name": "t3",
   "language": "python",
   "name": "python3"
  },
  "language_info": {
   "codemirror_mode": {
    "name": "ipython",
    "version": 3
   },
   "file_extension": ".py",
   "mimetype": "text/x-python",
   "name": "python",
   "nbconvert_exporter": "python",
   "pygments_lexer": "ipython3",
   "version": "3.12.2"
  }
 },
 "nbformat": 4,
 "nbformat_minor": 2
}
